{
  "nbformat": 4,
  "nbformat_minor": 0,
  "metadata": {
    "colab": {
      "name": "10YearStudentDataAnalysis.ipynb",
      "provenance": [],
      "collapsed_sections": [],
      "authorship_tag": "ABX9TyOgV0AuenkbWMxH7Hafr/zH"
    },
    "kernelspec": {
      "name": "python3",
      "display_name": "Python 3"
    }
  },
  "cells": [
    {
      "cell_type": "code",
      "metadata": {
        "colab": {
          "base_uri": "https://localhost:8080/"
        },
        "id": "TRhgMMkBx0ma",
        "outputId": "a7c02007-a393-4794-a57a-90871e08e14d"
      },
      "source": [
        "from google.colab import drive \n",
        "drive.mount('/content/gdrive/')"
      ],
      "execution_count": 1,
      "outputs": [
        {
          "output_type": "stream",
          "name": "stdout",
          "text": [
            "Mounted at /content/gdrive/\n"
          ]
        }
      ]
    },
    {
      "cell_type": "code",
      "metadata": {
        "id": "mibA0ocP6qGs"
      },
      "source": [
        "import pandas as pd\n",
        "import matplotlib.pyplot as plt\n",
        "from scipy import stats\n",
        "from scipy.stats import ttest_ind"
      ],
      "execution_count": 2,
      "outputs": []
    },
    {
      "cell_type": "code",
      "metadata": {
        "id": "7rTynwTR8LPE"
      },
      "source": [
        "\"\"\"1 - Selecting data\"\"\"\n",
        "data = pd.read_csv(\"/content/Year 10 results.csv\")\n",
        "dataframe = pd.DataFrame(data)\n",
        "dataframe"
      ],
      "execution_count": null,
      "outputs": []
    },
    {
      "cell_type": "code",
      "metadata": {
        "id": "FitCK0GI8LbQ"
      },
      "source": [
        "\"\"\"2 - Data description and visualization\"\"\"\n",
        "\n",
        "dataframe.hist(\"T1 result\")\n",
        "dataframe.hist(\"T2 result\")\n",
        "dataframe.hist(\"T3 result\")\n",
        "dataframe.hist(\"T4 result\")"
      ],
      "execution_count": null,
      "outputs": []
    },
    {
      "cell_type": "code",
      "metadata": {
        "id": "QQx-87fB8LZG"
      },
      "source": [
        "## Separating students by gender\n",
        "\n",
        "female = dataframe[(dataframe['Sex'] == 'F')]\n",
        "female.reset_index(inplace= True)\n",
        "female.hist()\n",
        "\n",
        "male = dataframe[(dataframe['Sex'] == \"M\")]\n",
        "male.reset_index(inplace= True)\n",
        "male.hist()\n"
      ],
      "execution_count": null,
      "outputs": []
    },
    {
      "cell_type": "code",
      "metadata": {
        "id": "LE98oylhpDfG"
      },
      "source": [
        "# Average score of students in each term\n",
        "\n",
        "meanT1 = dataframe[\"T1 result\"].mean()\n",
        "meanT2 = dataframe[\"T2 result\"].mean()\n",
        "meanT3 = dataframe[\"T3 result\"].mean()\n",
        "meanT4 = dataframe[\"T4 result\"].mean()\n",
        "print(f\"Average score of students in first term : {meanT1}\")\n",
        "print(f\"Average score of students in second term: {meanT2}\")\n",
        "print(f\"Average score of students in third term : {meanT3}\")\n",
        "print(f\"Average score of students in fourth term : {meanT4}\")\n"
      ],
      "execution_count": null,
      "outputs": []
    },
    {
      "cell_type": "code",
      "metadata": {
        "id": "5rAC-4TrpItz"
      },
      "source": [
        "## Group students by nationality\n",
        "## The average scores in the terms by students according to their nationality\n",
        "nationality = dataframe.groupby([\"Nationality\"])\n",
        "nationality_mean = dataframe.groupby([\"Nationality\"]).mean()\n",
        "nationality_mean"
      ],
      "execution_count": null,
      "outputs": []
    },
    {
      "cell_type": "code",
      "metadata": {
        "id": "i8E_spf_pPos"
      },
      "source": [
        "nationality_mean.hist()"
      ],
      "execution_count": null,
      "outputs": []
    },
    {
      "cell_type": "code",
      "metadata": {
        "id": "xEmLfglaQfGR"
      },
      "source": [
        "\"\"\"Data Analysis\n",
        "  Check data distribution (Normailty check)\n",
        "  \"\"\"\n",
        "diff_term1and2 = dataframe[\"T1 result\"] - dataframe[\"T2 result\"]\n",
        "diff_term1and2\n",
        "\n",
        "print(\"=====================null huypothesis===========\")\n",
        "#The Shapiro-Wilk test tests the null hypothesis that the data was drawn from a normal distribution\n",
        "print(stats.shapiro(diff_term1and2))\n",
        "\n",
        "print(\"============ Normality test ===============\")\n",
        "print(\"============ p-p plot ===============\")\n",
        "stats.probplot(diff_term1and2, plot= plt)\n",
        "plt.title('Terms 1 and 2') \n",
        "plt.savefig('Terms 1 and 2.png')\n"
      ],
      "execution_count": null,
      "outputs": []
    },
    {
      "cell_type": "code",
      "metadata": {
        "id": "zjgtLjpQSuoI"
      },
      "source": [
        "print(\"============Histogram ===============\")\n",
        "diff_term1and2.plot(kind= \"hist\", title= \"Terms 1 and 2 results visual\")\n",
        "plt.xlabel(\"Length (cm)\")\n",
        "plt.savefig(\"Residuals Plot of Terms 1 and 2 results.png\")"
      ],
      "execution_count": null,
      "outputs": []
    },
    {
      "cell_type": "code",
      "metadata": {
        "id": "e8v0Lt0Kpg3A"
      },
      "source": [
        "# Homogenity of variances\n",
        "HOV = stats.levene(dataframe['T1 result'], dataframe['T2 result'])\n",
        "HOV"
      ],
      "execution_count": null,
      "outputs": []
    },
    {
      "cell_type": "code",
      "metadata": {
        "id": "jutUudm0jB_T"
      },
      "source": [
        "tTest = stats.ttest_ind(dataframe[\"T1 result\"], dataframe[\"T2 result\"])\n",
        "tTest"
      ],
      "execution_count": null,
      "outputs": []
    }
  ]
}